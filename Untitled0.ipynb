{
 "metadata": {
  "name": "",
  "signature": "sha256:a40e21ecff166905553a53c4c580a75b032b5284b40bf64590da6ab9880c16be"
 },
 "nbformat": 3,
 "nbformat_minor": 0,
 "worksheets": [
  {
   "cells": [
    {
     "cell_type": "code",
     "collapsed": false,
     "input": [
      "import pandas as pd\n",
      "import numpy as np\n",
      "import matplotlib.pyplot as plt"
     ],
     "language": "python",
     "metadata": {},
     "outputs": [],
     "prompt_number": 2
    },
    {
     "cell_type": "code",
     "collapsed": false,
     "input": [
      "x = np.random.uniform(0.0, 1.0, 50)\n",
      "y = np.random.normal(0.0, 1.0, 50)\n",
      "x = np.random.randint(0,50,100)\n",
      "y = np.random.randint(0,50,100)\n",
      "x = range(10)\n",
      "y = range(10)"
     ],
     "language": "python",
     "metadata": {},
     "outputs": [],
     "prompt_number": 12
    },
    {
     "cell_type": "code",
     "collapsed": false,
     "input": [
      "fig, ax = plt.subplots()\n",
      "plt.scatter(x, y)"
     ],
     "language": "python",
     "metadata": {},
     "outputs": [
      {
       "metadata": {},
       "output_type": "pyout",
       "prompt_number": 14,
       "text": [
        "<matplotlib.collections.PathCollection at 0x7f171d598b10>"
       ]
      },
      {
       "metadata": {},
       "output_type": "display_data",
       "png": "[encoded data removed]",
       "text": [
        "<matplotlib.figure.Figure at 0x7f171d4459d0>"
       ]
      }
     ],
     "prompt_number": 14
    },
    {
     "cell_type": "code",
     "collapsed": false,
     "input": [
      "from sklearn import datasets"
     ],
     "language": "python",
     "metadata": {},
     "outputs": [],
     "prompt_number": 26
    },
    {
     "cell_type": "code",
     "collapsed": false,
     "input": [
      "import pylab as pl\n",
      "\n",
      "iris = datasets.load_iris()\n",
      "digit = datasets.load_digits()\n",
      "iris.feature_names\n",
      "iris.data\n",
      "digit.data\n",
      "print digit.target\n",
      "\n",
      "image = digit.images[5]\n",
      "print image\n",
      "pl.imshow(image, cmap=pl.cm.gray_r, interpolation='nearest')\n",
      "\n",
      "pl.title('Training: %i' % 5)\n",
      "print type(digit.data)\n",
      "a = np.array([[0, 1], [2, 3], [5,6]])\n",
      "b = np.array([0,1,2])\n",
      "print type(a)\n",
      "digit.data.shape\n",
      "print a.shape\n",
      "print b.shape\n",
      "print b[0::, 1]\n",
      "#np.zeros((2,2))"
     ],
     "language": "python",
     "metadata": {},
     "outputs": [
      {
       "output_type": "stream",
       "stream": "stdout",
       "text": [
        "[0 1 2 ..., 8 9 8]\n",
        "[[  0.   0.  12.  10.   0.   0.   0.   0.]\n",
        " [  0.   0.  14.  16.  16.  14.   0.   0.]\n",
        " [  0.   0.  13.  16.  15.  10.   1.   0.]\n",
        " [  0.   0.  11.  16.  16.   7.   0.   0.]\n",
        " [  0.   0.   0.   4.   7.  16.   7.   0.]\n",
        " [  0.   0.   0.   0.   4.  16.   9.   0.]\n",
        " [  0.   0.   5.   4.  12.  16.   4.   0.]\n",
        " [  0.   0.   9.  16.  16.  10.   0.   0.]]\n",
        "<type 'numpy.ndarray'>"
       ]
      },
      {
       "output_type": "stream",
       "stream": "stdout",
       "text": [
        "\n",
        "<type 'numpy.ndarray'>\n",
        "(3, 2)\n",
        "(3,)\n"
       ]
      },
      {
       "ename": "IndexError",
       "evalue": "too many indices",
       "output_type": "pyerr",
       "traceback": [
        "\u001b[1;31m---------------------------------------------------------------------------\u001b[0m\n\u001b[1;31mIndexError\u001b[0m                                Traceback (most recent call last)",
        "\u001b[1;32m<ipython-input-79-5c53b2345153>\u001b[0m in \u001b[0;36m<module>\u001b[1;34m()\u001b[0m\n\u001b[0;32m     20\u001b[0m \u001b[1;32mprint\u001b[0m \u001b[0ma\u001b[0m\u001b[1;33m.\u001b[0m\u001b[0mshape\u001b[0m\u001b[1;33m\u001b[0m\u001b[0m\n\u001b[0;32m     21\u001b[0m \u001b[1;32mprint\u001b[0m \u001b[0mb\u001b[0m\u001b[1;33m.\u001b[0m\u001b[0mshape\u001b[0m\u001b[1;33m\u001b[0m\u001b[0m\n\u001b[1;32m---> 22\u001b[1;33m \u001b[1;32mprint\u001b[0m \u001b[0mb\u001b[0m\u001b[1;33m[\u001b[0m\u001b[1;36m0\u001b[0m\u001b[1;33m:\u001b[0m\u001b[1;33m:\u001b[0m\u001b[1;33m,\u001b[0m \u001b[1;36m1\u001b[0m\u001b[1;33m]\u001b[0m\u001b[1;33m\u001b[0m\u001b[0m\n\u001b[0m\u001b[0;32m     23\u001b[0m \u001b[1;31m#np.zeros((2,2))\u001b[0m\u001b[1;33m\u001b[0m\u001b[1;33m\u001b[0m\u001b[0m\n",
        "\u001b[1;31mIndexError\u001b[0m: too many indices"
       ]
      },
      {
       "metadata": {},
       "output_type": "display_data",
       "png": "[encoded data removed]",
       "text": [
        "<matplotlib.figure.Figure at 0x7f1713c6bd50>"
       ]
      }
     ],
     "prompt_number": 79
    }
   ],
   "metadata": {}
  }
 ]
}