{
 "metadata": {
  "name": "",
  "signature": "sha256:73a5eeb379b964eb39fc6406ac2fb97b78d244043ba13abda62b37a26bffacdf"
 },
 "nbformat": 3,
 "nbformat_minor": 0,
 "worksheets": [
  {
   "cells": [
    {
     "cell_type": "markdown",
     "metadata": {},
     "source": [
      "Source : http://www.datarobot.com/blog/ordinary-least-squares-in-python/"
     ]
    },
    {
     "cell_type": "markdown",
     "metadata": {},
     "source": [
      "OLS : Ordinary Least-Squares (Regression)\n",
      "the predictor variables (the X) and the response (the Y)\n",
      "\n",
      "y=\u03b20+\u03b21\u2217x\n",
      "\n",
      "y^=\u03b2^0+\u03b2^1\u2217x\n",
      "\n",
      "\u03b20 is called the constant term or the intercept."
     ]
    },
    {
     "cell_type": "code",
     "collapsed": false,
     "input": [
      "import numpy as np\n",
      "import pandas as pd\n",
      "import statsmodels.api as sm"
     ],
     "language": "python",
     "metadata": {},
     "outputs": [],
     "prompt_number": 73
    },
    {
     "cell_type": "code",
     "collapsed": false,
     "input": [
      "df = pd.read_csv('http://vincentarelbundock.github.io/Rdatasets/csv/datasets/longley.csv', index_col=0)\n",
      "df.head()"
     ],
     "language": "python",
     "metadata": {},
     "outputs": [
      {
       "html": [
        "<div style=\"max-height:1000px;max-width:1500px;overflow:auto;\">\n",
        "<table border=\"1\" class=\"dataframe\">\n",
        "  <thead>\n",
        "    <tr style=\"text-align: right;\">\n",
        "      <th></th>\n",
        "      <th>GNP.deflator</th>\n",
        "      <th>GNP</th>\n",
        "      <th>Unemployed</th>\n",
        "      <th>Armed.Forces</th>\n",
        "      <th>Population</th>\n",
        "      <th>Year</th>\n",
        "      <th>Employed</th>\n",
        "    </tr>\n",
        "  </thead>\n",
        "  <tbody>\n",
        "    <tr>\n",
        "      <th>1947</th>\n",
        "      <td> 83.0</td>\n",
        "      <td> 234.289</td>\n",
        "      <td> 235.6</td>\n",
        "      <td> 159.0</td>\n",
        "      <td> 107.608</td>\n",
        "      <td> 1947</td>\n",
        "      <td> 60.323</td>\n",
        "    </tr>\n",
        "    <tr>\n",
        "      <th>1948</th>\n",
        "      <td> 88.5</td>\n",
        "      <td> 259.426</td>\n",
        "      <td> 232.5</td>\n",
        "      <td> 145.6</td>\n",
        "      <td> 108.632</td>\n",
        "      <td> 1948</td>\n",
        "      <td> 61.122</td>\n",
        "    </tr>\n",
        "    <tr>\n",
        "      <th>1949</th>\n",
        "      <td> 88.2</td>\n",
        "      <td> 258.054</td>\n",
        "      <td> 368.2</td>\n",
        "      <td> 161.6</td>\n",
        "      <td> 109.773</td>\n",
        "      <td> 1949</td>\n",
        "      <td> 60.171</td>\n",
        "    </tr>\n",
        "    <tr>\n",
        "      <th>1950</th>\n",
        "      <td> 89.5</td>\n",
        "      <td> 284.599</td>\n",
        "      <td> 335.1</td>\n",
        "      <td> 165.0</td>\n",
        "      <td> 110.929</td>\n",
        "      <td> 1950</td>\n",
        "      <td> 61.187</td>\n",
        "    </tr>\n",
        "    <tr>\n",
        "      <th>1951</th>\n",
        "      <td> 96.2</td>\n",
        "      <td> 328.975</td>\n",
        "      <td> 209.9</td>\n",
        "      <td> 309.9</td>\n",
        "      <td> 112.075</td>\n",
        "      <td> 1951</td>\n",
        "      <td> 63.221</td>\n",
        "    </tr>\n",
        "  </tbody>\n",
        "</table>\n",
        "</div>"
       ],
       "metadata": {},
       "output_type": "pyout",
       "prompt_number": 74,
       "text": [
        "      GNP.deflator      GNP  Unemployed  Armed.Forces  Population  Year  \\\n",
        "1947          83.0  234.289       235.6         159.0     107.608  1947   \n",
        "1948          88.5  259.426       232.5         145.6     108.632  1948   \n",
        "1949          88.2  258.054       368.2         161.6     109.773  1949   \n",
        "1950          89.5  284.599       335.1         165.0     110.929  1950   \n",
        "1951          96.2  328.975       209.9         309.9     112.075  1951   \n",
        "\n",
        "      Employed  \n",
        "1947    60.323  \n",
        "1948    61.122  \n",
        "1949    60.171  \n",
        "1950    61.187  \n",
        "1951    63.221  "
       ]
      }
     ],
     "prompt_number": 74
    },
    {
     "cell_type": "code",
     "collapsed": false,
     "input": [
      "df.info()"
     ],
     "language": "python",
     "metadata": {},
     "outputs": [
      {
       "output_type": "stream",
       "stream": "stdout",
       "text": [
        "<class 'pandas.core.frame.DataFrame'>\n",
        "Int64Index: 16 entries, 1947 to 1962\n",
        "Data columns (total 7 columns):\n",
        "GNP.deflator    16 non-null float64\n",
        "GNP             16 non-null float64\n",
        "Unemployed      16 non-null float64\n",
        "Armed.Forces    16 non-null float64\n",
        "Population      16 non-null float64\n",
        "Year            16 non-null int64\n",
        "Employed        16 non-null float64\n",
        "dtypes: float64(6), int64(1)"
       ]
      }
     ],
     "prompt_number": 75
    },
    {
     "cell_type": "markdown",
     "metadata": {},
     "source": [
      "We will use the variable Total Derived Employment ('Employed') as our response y and Gross National Product ('GNP') as our predictor X."
     ]
    },
    {
     "cell_type": "code",
     "collapsed": false,
     "input": [
      "y = df.Employed # response\n",
      "X = df.GNP # predictor\n",
      "X = sm.add_constant(X)\n",
      "X.head()"
     ],
     "language": "python",
     "metadata": {},
     "outputs": [
      {
       "html": [
        "<div style=\"max-height:1000px;max-width:1500px;overflow:auto;\">\n",
        "<table border=\"1\" class=\"dataframe\">\n",
        "  <thead>\n",
        "    <tr style=\"text-align: right;\">\n",
        "      <th></th>\n",
        "      <th>const</th>\n",
        "      <th>GNP</th>\n",
        "    </tr>\n",
        "  </thead>\n",
        "  <tbody>\n",
        "    <tr>\n",
        "      <th>1947</th>\n",
        "      <td> 1</td>\n",
        "      <td> 234.289</td>\n",
        "    </tr>\n",
        "    <tr>\n",
        "      <th>1948</th>\n",
        "      <td> 1</td>\n",
        "      <td> 259.426</td>\n",
        "    </tr>\n",
        "    <tr>\n",
        "      <th>1949</th>\n",
        "      <td> 1</td>\n",
        "      <td> 258.054</td>\n",
        "    </tr>\n",
        "    <tr>\n",
        "      <th>1950</th>\n",
        "      <td> 1</td>\n",
        "      <td> 284.599</td>\n",
        "    </tr>\n",
        "    <tr>\n",
        "      <th>1951</th>\n",
        "      <td> 1</td>\n",
        "      <td> 328.975</td>\n",
        "    </tr>\n",
        "  </tbody>\n",
        "</table>\n",
        "</div>"
       ],
       "metadata": {},
       "output_type": "pyout",
       "prompt_number": 76,
       "text": [
        "      const      GNP\n",
        "1947      1  234.289\n",
        "1948      1  259.426\n",
        "1949      1  258.054\n",
        "1950      1  284.599\n",
        "1951      1  328.975"
       ]
      }
     ],
     "prompt_number": 76
    },
    {
     "cell_type": "markdown",
     "metadata": {},
     "source": [
      " X will either be a numpy array or a pandas data frame with shape (n, p) where n is the number of data points and p is the number of predictors. y is either a one-dimensional numpy array or a pandas series of length n."
     ]
    },
    {
     "cell_type": "code",
     "collapsed": false,
     "input": [
      "# y = df.Employed - response\n",
      "# X = df.GNP - predictor\n",
      "est = sm.OLS(y, X)"
     ],
     "language": "python",
     "metadata": {},
     "outputs": [],
     "prompt_number": 77
    },
    {
     "cell_type": "code",
     "collapsed": false,
     "input": [
      "# fit the model\n",
      "est = est.fit()"
     ],
     "language": "python",
     "metadata": {},
     "outputs": [],
     "prompt_number": 78
    },
    {
     "cell_type": "code",
     "collapsed": false,
     "input": [
      "est.summary()"
     ],
     "language": "python",
     "metadata": {},
     "outputs": [
      {
       "html": [
        "<table class=\"simpletable\">\n",
        "<caption>OLS Regression Results</caption>\n",
        "<tr>\n",
        "  <th>Dep. Variable:</th>        <td>Employed</td>     <th>  R-squared:         </th> <td>   0.967</td>\n",
        "</tr>\n",
        "<tr>\n",
        "  <th>Model:</th>                   <td>OLS</td>       <th>  Adj. R-squared:    </th> <td>   0.965</td>\n",
        "</tr>\n",
        "<tr>\n",
        "  <th>Method:</th>             <td>Least Squares</td>  <th>  F-statistic:       </th> <td>   415.1</td>\n",
        "</tr>\n",
        "<tr>\n",
        "  <th>Date:</th>             <td>Thu, 10 Jul 2014</td> <th>  Prob (F-statistic):</th> <td>8.36e-12</td>\n",
        "</tr>\n",
        "<tr>\n",
        "  <th>Time:</th>                 <td>20:15:00</td>     <th>  Log-Likelihood:    </th> <td> -14.904</td>\n",
        "</tr>\n",
        "<tr>\n",
        "  <th>No. Observations:</th>      <td>    16</td>      <th>  AIC:               </th> <td>   33.81</td>\n",
        "</tr>\n",
        "<tr>\n",
        "  <th>Df Residuals:</th>          <td>    14</td>      <th>  BIC:               </th> <td>   35.35</td>\n",
        "</tr>\n",
        "<tr>\n",
        "  <th>Df Model:</th>              <td>     1</td>      <th>                     </th>     <td> </td>   \n",
        "</tr>\n",
        "</table>\n",
        "<table class=\"simpletable\">\n",
        "<tr>\n",
        "    <td></td>       <th>coef</th>     <th>std err</th>      <th>t</th>      <th>P>|t|</th> <th>[95.0% Conf. Int.]</th> \n",
        "</tr>\n",
        "<tr>\n",
        "  <th>const</th> <td>   51.8436</td> <td>    0.681</td> <td>   76.087</td> <td> 0.000</td> <td>   50.382    53.305</td>\n",
        "</tr>\n",
        "<tr>\n",
        "  <th>GNP</th>   <td>    0.0348</td> <td>    0.002</td> <td>   20.374</td> <td> 0.000</td> <td>    0.031     0.038</td>\n",
        "</tr>\n",
        "</table>\n",
        "<table class=\"simpletable\">\n",
        "<tr>\n",
        "  <th>Omnibus:</th>       <td> 1.925</td> <th>  Durbin-Watson:     </th> <td>   1.619</td>\n",
        "</tr>\n",
        "<tr>\n",
        "  <th>Prob(Omnibus):</th> <td> 0.382</td> <th>  Jarque-Bera (JB):  </th> <td>   1.215</td>\n",
        "</tr>\n",
        "<tr>\n",
        "  <th>Skew:</th>          <td> 0.664</td> <th>  Prob(JB):          </th> <td>   0.545</td>\n",
        "</tr>\n",
        "<tr>\n",
        "  <th>Kurtosis:</th>      <td> 2.759</td> <th>  Cond. No.          </th> <td>1.66e+03</td>\n",
        "</tr>\n",
        "</table>"
       ],
       "metadata": {},
       "output_type": "pyout",
       "prompt_number": 79,
       "text": [
        "<class 'statsmodels.iolib.summary.Summary'>\n",
        "\"\"\"\n",
        "                            OLS Regression Results                            \n",
        "==============================================================================\n",
        "Dep. Variable:               Employed   R-squared:                       0.967\n",
        "Model:                            OLS   Adj. R-squared:                  0.965\n",
        "Method:                 Least Squares   F-statistic:                     415.1\n",
        "Date:                Thu, 10 Jul 2014   Prob (F-statistic):           8.36e-12\n",
        "Time:                        20:15:00   Log-Likelihood:                -14.904\n",
        "No. Observations:                  16   AIC:                             33.81\n",
        "Df Residuals:                      14   BIC:                             35.35\n",
        "Df Model:                           1                                         \n",
        "==============================================================================\n",
        "                 coef    std err          t      P>|t|      [95.0% Conf. Int.]\n",
        "------------------------------------------------------------------------------\n",
        "const         51.8436      0.681     76.087      0.000        50.382    53.305\n",
        "GNP            0.0348      0.002     20.374      0.000         0.031     0.038\n",
        "==============================================================================\n",
        "Omnibus:                        1.925   Durbin-Watson:                   1.619\n",
        "Prob(Omnibus):                  0.382   Jarque-Bera (JB):                1.215\n",
        "Skew:                           0.664   Prob(JB):                        0.545\n",
        "Kurtosis:                       2.759   Cond. No.                     1.66e+03\n",
        "==============================================================================\n",
        "\n",
        "Warnings:\n",
        "[1] The condition number is large, 1.66e+03. This might indicate that there are\n",
        "strong multicollinearity or other numerical problems.\n",
        "\"\"\""
       ]
      }
     ],
     "prompt_number": 79
    },
    {
     "cell_type": "code",
     "collapsed": false,
     "input": [
      "est.params"
     ],
     "language": "python",
     "metadata": {},
     "outputs": [
      {
       "metadata": {},
       "output_type": "pyout",
       "prompt_number": 80,
       "text": [
        "const    51.843590\n",
        "GNP       0.034752\n",
        "dtype: float64"
       ]
      }
     ],
     "prompt_number": 80
    },
    {
     "cell_type": "code",
     "collapsed": false,
     "input": [
      "# y = df.Employed - response\n",
      "# X = df.GNP - predictor\n",
      "\n",
      "# We pick 100 hundred points equally spaced from the min to the max\n",
      "X_prime = np.linspace(X.GNP.min(), X.GNP.max(), 100)[:, np.newaxis]\n",
      "X_prime = sm.add_constant(X_prime) # add constant as we did before\n",
      "\n",
      "# Now we calculate the predicted values\n",
      "y_hat = est.predict(X_prime)"
     ],
     "language": "python",
     "metadata": {},
     "outputs": [],
     "prompt_number": 81
    },
    {
     "cell_type": "code",
     "collapsed": false,
     "input": [
      "plt.scatter(X.GNP, y, alpha=0.3) # Plot the raw data\n",
      "plt.xlabel('GNP (Gross National Product)')\n",
      "plt.ylabel('Total Employement')\n",
      "plt.plot(X_prime[:, 1], y_hat, 'r', alpha=0.9) # Add the regression line, colored in red"
     ],
     "language": "python",
     "metadata": {},
     "outputs": [
      {
       "metadata": {},
       "output_type": "pyout",
       "prompt_number": 82,
       "text": [
        "[<matplotlib.lines.Line2D at 0x7fd480136c10>]"
       ]
      },
      {
       "metadata": {},
       "output_type": "display_data",
       "png": "[encoded data removed]",
       "text": [
        "<matplotlib.figure.Figure at 0x7fd48033b2d0>"
       ]
      }
     ],
     "prompt_number": 82
    },
    {
     "cell_type": "code",
     "collapsed": false,
     "input": [
      "import statsmodels.formula.api as smf\n",
      "\n",
      "# formula: response ~ predictors\n",
      "est = smf.ols(formula='Employed ~ GNP', data=df).fit()\n",
      "est.summary()"
     ],
     "language": "python",
     "metadata": {},
     "outputs": [
      {
       "html": [
        "<table class=\"simpletable\">\n",
        "<caption>OLS Regression Results</caption>\n",
        "<tr>\n",
        "  <th>Dep. Variable:</th>        <td>Employed</td>     <th>  R-squared:         </th> <td>   0.967</td>\n",
        "</tr>\n",
        "<tr>\n",
        "  <th>Model:</th>                   <td>OLS</td>       <th>  Adj. R-squared:    </th> <td>   0.965</td>\n",
        "</tr>\n",
        "<tr>\n",
        "  <th>Method:</th>             <td>Least Squares</td>  <th>  F-statistic:       </th> <td>   415.1</td>\n",
        "</tr>\n",
        "<tr>\n",
        "  <th>Date:</th>             <td>Thu, 10 Jul 2014</td> <th>  Prob (F-statistic):</th> <td>8.36e-12</td>\n",
        "</tr>\n",
        "<tr>\n",
        "  <th>Time:</th>                 <td>20:15:02</td>     <th>  Log-Likelihood:    </th> <td> -14.904</td>\n",
        "</tr>\n",
        "<tr>\n",
        "  <th>No. Observations:</th>      <td>    16</td>      <th>  AIC:               </th> <td>   33.81</td>\n",
        "</tr>\n",
        "<tr>\n",
        "  <th>Df Residuals:</th>          <td>    14</td>      <th>  BIC:               </th> <td>   35.35</td>\n",
        "</tr>\n",
        "<tr>\n",
        "  <th>Df Model:</th>              <td>     1</td>      <th>                     </th>     <td> </td>   \n",
        "</tr>\n",
        "</table>\n",
        "<table class=\"simpletable\">\n",
        "<tr>\n",
        "      <td></td>         <th>coef</th>     <th>std err</th>      <th>t</th>      <th>P>|t|</th> <th>[95.0% Conf. Int.]</th> \n",
        "</tr>\n",
        "<tr>\n",
        "  <th>Intercept</th> <td>   51.8436</td> <td>    0.681</td> <td>   76.087</td> <td> 0.000</td> <td>   50.382    53.305</td>\n",
        "</tr>\n",
        "<tr>\n",
        "  <th>GNP</th>       <td>    0.0348</td> <td>    0.002</td> <td>   20.374</td> <td> 0.000</td> <td>    0.031     0.038</td>\n",
        "</tr>\n",
        "</table>\n",
        "<table class=\"simpletable\">\n",
        "<tr>\n",
        "  <th>Omnibus:</th>       <td> 1.925</td> <th>  Durbin-Watson:     </th> <td>   1.619</td>\n",
        "</tr>\n",
        "<tr>\n",
        "  <th>Prob(Omnibus):</th> <td> 0.382</td> <th>  Jarque-Bera (JB):  </th> <td>   1.215</td>\n",
        "</tr>\n",
        "<tr>\n",
        "  <th>Skew:</th>          <td> 0.664</td> <th>  Prob(JB):          </th> <td>   0.545</td>\n",
        "</tr>\n",
        "<tr>\n",
        "  <th>Kurtosis:</th>      <td> 2.759</td> <th>  Cond. No.          </th> <td>1.66e+03</td>\n",
        "</tr>\n",
        "</table>"
       ],
       "metadata": {},
       "output_type": "pyout",
       "prompt_number": 83,
       "text": [
        "<class 'statsmodels.iolib.summary.Summary'>\n",
        "\"\"\"\n",
        "                            OLS Regression Results                            \n",
        "==============================================================================\n",
        "Dep. Variable:               Employed   R-squared:                       0.967\n",
        "Model:                            OLS   Adj. R-squared:                  0.965\n",
        "Method:                 Least Squares   F-statistic:                     415.1\n",
        "Date:                Thu, 10 Jul 2014   Prob (F-statistic):           8.36e-12\n",
        "Time:                        20:15:02   Log-Likelihood:                -14.904\n",
        "No. Observations:                  16   AIC:                             33.81\n",
        "Df Residuals:                      14   BIC:                             35.35\n",
        "Df Model:                           1                                         \n",
        "==============================================================================\n",
        "                 coef    std err          t      P>|t|      [95.0% Conf. Int.]\n",
        "------------------------------------------------------------------------------\n",
        "Intercept     51.8436      0.681     76.087      0.000        50.382    53.305\n",
        "GNP            0.0348      0.002     20.374      0.000         0.031     0.038\n",
        "==============================================================================\n",
        "Omnibus:                        1.925   Durbin-Watson:                   1.619\n",
        "Prob(Omnibus):                  0.382   Jarque-Bera (JB):                1.215\n",
        "Skew:                           0.664   Prob(JB):                        0.545\n",
        "Kurtosis:                       2.759   Cond. No.                     1.66e+03\n",
        "==============================================================================\n",
        "\n",
        "Warnings:\n",
        "[1] The condition number is large, 1.66e+03. This might indicate that there are\n",
        "strong multicollinearity or other numerical problems.\n",
        "\"\"\""
       ]
      }
     ],
     "prompt_number": 83
    },
    {
     "cell_type": "code",
     "collapsed": false,
     "input": [
      "est_no_int = smf.ols(formula='Employed ~ GNP - 1', data = df).fit()\n",
      "\n",
      "X_prime_1 = pd.DataFrame({'GNP': np.linspace(X.GNP.min(), X.GNP.max(), 100)})\n",
      "X_prime_1 = sm.add_constant(X_prime_1)\n",
      "\n",
      "\n",
      "y_hat_int = est.predict(X_prime_1)\n",
      "y_hat_no_int = est_no_int.predict(X_prime_1)\n",
      "\n",
      "fig = plt.figure(figsize=(8,4))\n",
      "splt = plt.subplot(121)\n",
      "\n",
      "splt.scatter(X.GNP, y, alpha=0.3) # Plot the raw data\n",
      "plt.ylim(30,100)\n",
      "plt.xlabel('GNP (Gross National Product)')\n",
      "plt.ylabel('Total Employement')\n",
      "plt.title('With intercept')\n",
      "splt.plot(X_prime[:, 1], y_hat, 'r', alpha=0.9) # Add the regression line, colored in red\n",
      "z = np.linspace(X.GNP.min(), X.GNP.max(), 100)\n",
      "v = 0.0348*z+51.8436\n",
      "splt.plot(z, v, 'b', alpha=0.9, linestyle='dashed')\n",
      "\n",
      "splt = plt.subplot(122)\n",
      "\n",
      "splt.scatter(X.GNP, y, alpha=0.3) # Plot the raw data\n",
      "plt.xlabel('GNP (Gross National Product)')\n",
      "plt.title('Without intercept')\n",
      "splt.plot(X_prime[:, 1], y_hat_no_int, 'r', alpha=0.9) # Add the regression line, colored in red\n",
      "\n"
     ],
     "language": "python",
     "metadata": {},
     "outputs": [
      {
       "metadata": {},
       "output_type": "pyout",
       "prompt_number": 95,
       "text": [
        "[<matplotlib.lines.Line2D at 0x7fd47f5da050>]"
       ]
      },
      {
       "metadata": {},
       "output_type": "display_data",
       "png": "[encoded data removed]",
       "text": [
        "<matplotlib.figure.Figure at 0x7fd47ff18190>"
       ]
      }
     ],
     "prompt_number": 95
    },
    {
     "cell_type": "code",
     "collapsed": false,
     "input": [
      "print X_prime_1.head()\n",
      "est_no_int.summary()\n",
      "est.conf_int()"
     ],
     "language": "python",
     "metadata": {},
     "outputs": [
      {
       "output_type": "stream",
       "stream": "stdout",
       "text": [
        "   const         GNP\n",
        "0      1  234.289000\n",
        "1      1  237.527434\n",
        "2      1  240.765869\n",
        "3      1  244.004303\n",
        "4      1  247.242737\n"
       ]
      },
      {
       "html": [
        "<div style=\"max-height:1000px;max-width:1500px;overflow:auto;\">\n",
        "<table border=\"1\" class=\"dataframe\">\n",
        "  <thead>\n",
        "    <tr style=\"text-align: right;\">\n",
        "      <th></th>\n",
        "      <th>0</th>\n",
        "      <th>1</th>\n",
        "    </tr>\n",
        "  </thead>\n",
        "  <tbody>\n",
        "    <tr>\n",
        "      <th>Intercept</th>\n",
        "      <td> 50.382193</td>\n",
        "      <td> 53.304987</td>\n",
        "    </tr>\n",
        "    <tr>\n",
        "      <th>GNP</th>\n",
        "      <td>  0.031094</td>\n",
        "      <td>  0.038411</td>\n",
        "    </tr>\n",
        "  </tbody>\n",
        "</table>\n",
        "</div>"
       ],
       "metadata": {},
       "output_type": "pyout",
       "prompt_number": 89,
       "text": [
        "                   0          1\n",
        "Intercept  50.382193  53.304987\n",
        "GNP         0.031094   0.038411"
       ]
      }
     ],
     "prompt_number": 89
    },
    {
     "cell_type": "code",
     "collapsed": false,
     "input": [
      "a = 0.03\n",
      "b = 51\n",
      "z = arange(200, 600, 1)\n",
      "v = 0.03*z+51\n",
      "#plt.ylim(30,100)\n",
      "plt.plot(z, v, 'b', alpha=0.9)\n"
     ],
     "language": "python",
     "metadata": {},
     "outputs": [
      {
       "metadata": {},
       "output_type": "pyout",
       "prompt_number": 87,
       "text": [
        "[<matplotlib.lines.Line2D at 0x7fd47fdac590>]"
       ]
      },
      {
       "metadata": {},
       "output_type": "display_data",
       "png": "[encoded data removed]",
       "text": [
        "<matplotlib.figure.Figure at 0x7fd47ffcfb50>"
       ]
      }
     ],
     "prompt_number": 87
    }
   ],
   "metadata": {}
  }
 ]
}