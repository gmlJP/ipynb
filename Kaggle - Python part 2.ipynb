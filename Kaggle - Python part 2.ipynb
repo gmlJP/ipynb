{
 "metadata": {
  "name": "",
  "signature": "sha256:ed6f4e1d0b1ed16612713d5375104ae87ee3b13e87cc6a8719663c8d74f0ad52"
 },
 "nbformat": 3,
 "nbformat_minor": 0,
 "worksheets": [
  {
   "cells": [
    {
     "cell_type": "code",
     "collapsed": false,
     "input": [
      "import os\n",
      "dir_path= \"/vagrant/titanic/\""
     ],
     "language": "python",
     "metadata": {},
     "outputs": [],
     "prompt_number": 12
    },
    {
     "cell_type": "code",
     "collapsed": false,
     "input": [
      "import csv as csv\n",
      "import numpy as np \n",
      "\n",
      "csv_file_object = csv.reader(open(os.path.join(dir_path, 'train.csv'), 'rb'))\n",
      "header = csv_file_object.next()\n",
      "header_with_index=[]\n",
      "for i in range (0, size(header)):\n",
      "    header_with_index.append((header[i], i))\n",
      "\n",
      "data = []\n",
      "for row in csv_file_object:\n",
      "    data.append(row)\n",
      "# convert list to array\n",
      "data = np.array(data)\n",
      "\n",
      "number_passengers = np.size(data[0::, 1].astype(np.float))\n",
      "number_survived = np.sum(data[0::, 1].astype(np.float))\n",
      "proportion_survivors= number_survived / number_passengers\n",
      "\n",
      "women_only_stats = data[0::, 4] == \"female\"\n",
      "men_only_stats = data[0::, 4] != \"female\"\n",
      "\n",
      "women_onboard = data[women_only_stats, 1].astype(np.float)\n",
      "men_onboard = data[men_only_stats, 1].astype(np.float)\n",
      "\n",
      "# proportions of them that survived\n",
      "proportion_women_survived = np.sum(women_onboard) / np.size(women_onboard)\n",
      "proportion_men_survived = np.sum(men_onboard) / np.size(men_onboard)\n",
      "\n",
      "print 'Proportion of women who survived is %s' % proportion_women_survived\n",
      "print 'Proportion of men who survived is %s' % proportion_men_survived"
     ],
     "language": "python",
     "metadata": {},
     "outputs": [
      {
       "output_type": "stream",
       "stream": "stdout",
       "text": [
        "Proportion of women who survived is 0.742038216561\n",
        "Proportion of men who survived is 0.188908145581\n"
       ]
      }
     ],
     "prompt_number": 13
    },
    {
     "cell_type": "markdown",
     "metadata": {},
     "source": [
      "\n",
      "**2x3x4**\n"
     ]
    },
    {
     "cell_type": "code",
     "collapsed": false,
     "input": [
      "header_with_index"
     ],
     "language": "python",
     "metadata": {},
     "outputs": [
      {
       "metadata": {},
       "output_type": "pyout",
       "prompt_number": 14,
       "text": [
        "[('PassengerId', 0),\n",
        " ('Survived', 1),\n",
        " ('Pclass', 2),\n",
        " ('Name', 3),\n",
        " ('Sex', 4),\n",
        " ('Age', 5),\n",
        " ('SibSp', 6),\n",
        " ('Parch', 7),\n",
        " ('Ticket', 8),\n",
        " ('Fare', 9),\n",
        " ('Cabin', 10),\n",
        " ('Embarked', 11)]"
       ]
      }
     ],
     "prompt_number": 14
    },
    {
     "cell_type": "code",
     "collapsed": true,
     "input": [
      "fare_ceiling = 40\n",
      "data[ data[0::, 9].astype(np.float) >= fare_ceiling, 9 ] = fare_ceiling - 1.0 \n",
      "\n",
      "fare_bracket_size = 10\n",
      "number_of_price_brackets = fare_ceiling / fare_bracket_size\n",
      "\n",
      "number_of_classes = len(np.unique(data[0::, 2]))\n",
      "\n",
      "survival_table = np.zeros((2, number_of_classes, number_of_price_brackets)) # 2x3x4                       \n"
     ],
     "language": "python",
     "metadata": {},
     "outputs": [],
     "prompt_number": 15
    },
    {
     "cell_type": "code",
     "collapsed": false,
     "input": [
      "for i in xrange(number_of_classes): # number_of_classes = 3\n",
      "    for j in xrange(number_of_price_brackets):  # number_of_price_brackets = 4\n",
      "        women_only_stats = data[ \n",
      "                                (data[0::,4] == \"female\")  \n",
      "                                & (data[0::,2].astype(np.float) == i+1) # 1st / 2nd / 3rd class\n",
      "                                & (data[0::,9].astype(np.float) >= j*fare_bracket_size) #$ 0-9,  $10-19,  $20-29,  $30-39 \n",
      "                                & (data[0::,9].astype(np.float) < (j+1)*fare_bracket_size)  # fare_bracket_size = 10\n",
      "                                ,1]\n",
      "        print i+1, j+1, women_only_stats\n",
      "        men_only_stats = data[\n",
      "                                (data[0::,4] != \"female\") \n",
      "                                & (data[0::,2].astype(np.float) == i+1) # 1st / 2nd / 3rd class\n",
      "                                & (data[0::,9].astype(np.float) >= j*fare_bracket_size) #$ 0-9,  $10-19,  $20-29,  $30-39 \n",
      "                                & (data[0::,9].astype(np.float) < (j+1)*fare_bracket_size)  # fare_bracket_size = 10\n",
      "                                ,1]                              \n",
      "       \n",
      "        survival_table[0,i,j] = np.mean(women_only_stats.astype(np.float)) \n",
      "        survival_table[1,i,j] = np.mean(men_only_stats.astype(np.float))"
     ],
     "language": "python",
     "metadata": {},
     "outputs": [
      {
       "output_type": "stream",
       "stream": "stdout",
       "text": [
        "1 1 []\n",
        "1 2 []\n",
        "1 3 ['1' '1' '0' '1' '1' '1']\n",
        "1 4 ['1' '1' '1' '1' '1' '1' '1' '1' '1' '1' '1' '1' '1' '1' '1' '1' '1' '1'\n",
        " '1' '1' '0' '1' '1' '1' '1' '1' '1' '1' '1' '1' '1' '1' '1' '1' '1' '1'\n",
        " '1' '1' '1' '1' '1' '1' '1' '1' '1' '1' '0' '1' '1' '1' '1' '1' '1' '1'\n",
        " '1' '1' '1' '1' '1' '1' '1' '1' '1' '1' '1' '1' '1' '1' '1' '1' '1' '1'\n",
        " '1' '1' '1' '1' '1' '1' '1' '1' '1' '1' '1' '1' '1' '1' '1' '1']\n",
        "2 1 []\n",
        "2 2 ['1' '1' '1' '1' '1' '1' '1' '0' '1' '1' '1' '1' '1' '1' '1' '0' '1' '1'\n",
        " '1' '1' '1' '1' '1' '1' '1' '1' '1' '1' '1' '1' '1' '1' '0' '1' '1']\n",
        "2 3 ['0' '1' '1' '1' '1' '1' '1' '1' '0' '1' '1' '1' '1' '1' '1' '1' '1' '1'\n",
        " '1' '1' '1' '1' '1' '1' '1' '1' '1' '0' '1' '1']\n",
        "2 4 ['1' '1' '1' '1' '1' '1' '1' '1' '1' '1' '1']\n",
        "3 1 ['1' '0' '1' '1' '1' '1' '0' '1' '1' '1' '1' '0' '1' '0' '1' '1' '1' '1'\n",
        " '1' '1' '0' '0' '0' '1' '0' '1' '0' '1' '1' '1' '1' '1' '1' '1' '0' '0'\n",
        " '0' '0' '0' '1' '0' '0' '0' '0' '1' '0' '1' '0' '1' '1' '0' '1' '0' '1'\n",
        " '1' '0' '0' '1' '1' '1' '0' '0' '1' '1']\n",
        "3 2 ['1' '1' '0' '0' '1' '0' '1' '1' '0' '0' '0' '0' '1' '1' '1' '0' '0' '1'\n",
        " '0' '1' '1' '0' '1' '1' '0' '1' '1' '1' '1' '1' '0' '1' '0' '1' '0' '1'\n",
        " '0' '1' '1' '1' '0' '1' '0']\n",
        "3 3 ['0' '1' '1' '0' '1' '0' '0' '1' '1' '1' '0' '0' '0' '0' '1' '0' '0' '0'\n",
        " '0' '0' '0']\n",
        "3 4 ['1' '0' '0' '0' '0' '1' '0' '0' '0' '0' '0' '0' '0' '0' '0' '0']\n"
       ]
      }
     ],
     "prompt_number": 16
    },
    {
     "cell_type": "code",
     "collapsed": false,
     "input": [
      "women_only_stats"
     ],
     "language": "python",
     "metadata": {},
     "outputs": [
      {
       "metadata": {},
       "output_type": "pyout",
       "prompt_number": 17,
       "text": [
        "array(['1', '0', '0', '0', '0', '1', '0', '0', '0', '0', '0', '0', '0',\n",
        "       '0', '0', '0'], \n",
        "      dtype='|S82')"
       ]
      }
     ],
     "prompt_number": 17
    },
    {
     "cell_type": "code",
     "collapsed": false,
     "input": [
      "men_only_stats"
     ],
     "language": "python",
     "metadata": {},
     "outputs": [
      {
       "metadata": {},
       "output_type": "pyout",
       "prompt_number": 18,
       "text": [
        "array(['0', '0', '0', '1', '0', '0', '0', '0', '0', '0', '1', '0', '0',\n",
        "       '0', '0', '1', '1', '0', '0', '1', '0', '0', '1', '0', '0'], \n",
        "      dtype='|S82')"
       ]
      }
     ],
     "prompt_number": 18
    },
    {
     "cell_type": "code",
     "collapsed": false,
     "input": [
      "survival_table[ survival_table != survival_table ] = 0\n",
      "survival_table"
     ],
     "language": "python",
     "metadata": {},
     "outputs": [
      {
       "metadata": {},
       "output_type": "pyout",
       "prompt_number": 19,
       "text": [
        "array([[[ 0.        ,  0.        ,  0.83333333,  0.97727273],\n",
        "        [ 0.        ,  0.91428571,  0.9       ,  1.        ],\n",
        "        [ 0.59375   ,  0.58139535,  0.33333333,  0.125     ]],\n",
        "\n",
        "       [[ 0.        ,  0.        ,  0.4       ,  0.38372093],\n",
        "        [ 0.        ,  0.15873016,  0.16      ,  0.21428571],\n",
        "        [ 0.11153846,  0.23684211,  0.125     ,  0.24      ]]])"
       ]
      }
     ],
     "prompt_number": 19
    },
    {
     "cell_type": "code",
     "collapsed": false,
     "input": [
      "survival_table[ survival_table < 0.5] = 0\n",
      "survival_table[ survival_table >= 0.5] = 1"
     ],
     "language": "python",
     "metadata": {},
     "outputs": [],
     "prompt_number": 20
    },
    {
     "cell_type": "code",
     "collapsed": false,
     "input": [
      "survival_table"
     ],
     "language": "python",
     "metadata": {},
     "outputs": [
      {
       "metadata": {},
       "output_type": "pyout",
       "prompt_number": 21,
       "text": [
        "array([[[ 0.,  0.,  1.,  1.],\n",
        "        [ 0.,  1.,  1.,  1.],\n",
        "        [ 1.,  1.,  0.,  0.]],\n",
        "\n",
        "       [[ 0.,  0.,  0.,  0.],\n",
        "        [ 0.,  0.,  0.,  0.],\n",
        "        [ 0.,  0.,  0.,  0.]]])"
       ]
      }
     ],
     "prompt_number": 21
    },
    {
     "cell_type": "code",
     "collapsed": false,
     "input": [
      "test_file = open(os.path.join(dir_path, 'test.csv', 'rb')\n",
      "test_file_object = csv.reader(test_file)\n",
      "\n",
      "header = test_file_object.next()\n",
      "\n",
      "predictions_file = open(os.path.join(dir_path,'/vagrant/genderclassmodel_part2.csv', 'wb')\n",
      "p = csv.writer(predictions_file)\n",
      "p.writerow([\"PassengerId\", \"Survived\"])\n",
      "\n",
      "for row in test_file_object: \n",
      "    for j in range(number_of_price_brackets): # 4\n",
      "        try :\n",
      "            row[8] = float(row[8]) # Fare\n",
      "        except:\n",
      "            bin_fare = 3 - float(row[1]) # Pclass = 1,2,3 bin_fare = 0,1,2\n",
      "            break\n",
      "        if row[8] > fare_ceiling: # 40 \n",
      "            bin_fare = number_of_price_brackets - 1 # bin_fare = 3 \n",
      "            break\n",
      "        if row[8] >= j * fare_bracket_size and row[8] < (j+1) * fare_bracket_size: # 10 / 0, 10, 20, 30 or 10 20 30 40\n",
      "            bin_fare = j # bin_fare 0,1,2,3\n",
      "            break\n",
      "    if row[3] == 'female':\n",
      "        p.writerow([row[0], \"%d\" % int(survival_table[0, float(row[1])-1, bin_fare])])\n",
      "    else:\n",
      "        p.writerow([row[0], \"%d\" % int(survival_table[1, float(row[1])-1, bin_fare])])\n",
      "\n",
      "test_file.close()\n",
      "predictions_file.close()\n"
     ],
     "language": "python",
     "metadata": {},
     "outputs": [
      {
       "ename": "SyntaxError",
       "evalue": "invalid syntax (<ipython-input-22-e19d2ccf5b1e>, line 2)",
       "output_type": "pyerr",
       "traceback": [
        "\u001b[1;36m  File \u001b[1;32m\"<ipython-input-22-e19d2ccf5b1e>\"\u001b[1;36m, line \u001b[1;32m2\u001b[0m\n\u001b[1;33m    test_file_object = csv.reader(test_file)\u001b[0m\n\u001b[1;37m                   ^\u001b[0m\n\u001b[1;31mSyntaxError\u001b[0m\u001b[1;31m:\u001b[0m invalid syntax\n"
       ]
      }
     ],
     "prompt_number": 22
    },
    {
     "cell_type": "code",
     "collapsed": false,
     "input": [
      "prediction_file = open(os.path.join(dir_path, 'genderclassmodel_part2.csv'), \"rb\")\n",
      "prediction_file_object = csv.reader(prediction_file)\n",
      "prediction = []\n",
      "for _ in prediction_file_object:\n",
      "    prediction.append(_)\n",
      "prediction"
     ],
     "language": "python",
     "metadata": {},
     "outputs": []
    },
    {
     "cell_type": "code",
     "collapsed": false,
     "input": [
      "data"
     ],
     "language": "python",
     "metadata": {},
     "outputs": []
    },
    {
     "cell_type": "heading",
     "level": 2,
     "metadata": {},
     "source": [
      "# TIPS"
     ]
    },
    {
     "cell_type": "code",
     "collapsed": false,
     "input": [
      "data[:10,:5] # show 10 first lines / 5 first columns"
     ],
     "language": "python",
     "metadata": {},
     "outputs": []
    },
    {
     "cell_type": "code",
     "collapsed": false,
     "input": [
      "test_table = np.zeros((2))\n",
      "print test_table\n",
      "test_table2 = np.zeros((2,5))\n",
      "print test_table2"
     ],
     "language": "python",
     "metadata": {},
     "outputs": []
    }
   ],
   "metadata": {}
  }
 ]
}